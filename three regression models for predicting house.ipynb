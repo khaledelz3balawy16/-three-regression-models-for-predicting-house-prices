{
 "cells": [
  {
   "cell_type": "code",
   "execution_count": 1,
   "metadata": {},
   "outputs": [],
   "source": [
    "import numpy as np\n",
    "import pandas as pd\n",
    "from sklearn.impute import SimpleImputer\n",
    "from sklearn.preprocessing import StandardScaler\n",
    "from sklearn.model_selection import train_test_split\n",
    "from sklearn.linear_model import SGDRegressor, Ridge, Lasso\n",
    "from sklearn.metrics import mean_absolute_error, mean_squared_error\n"
   ]
  },
  {
   "cell_type": "code",
   "execution_count": 2,
   "metadata": {},
   "outputs": [],
   "source": [
    "# Read the dataset\n",
    "dataset = pd.read_csv('F:\\\\courses\\\\AI\\\\10\\\\SKlearn_files-master\\\\Data\\\\2.1 Linear Regression\\\\houses.csv')\n",
    "\n"
   ]
  },
  {
   "cell_type": "markdown",
   "metadata": {},
   "source": [
    " Impute missing values with mean"
   ]
  },
  {
   "cell_type": "code",
   "execution_count": 3,
   "metadata": {},
   "outputs": [],
   "source": [
    "imp = SimpleImputer(missing_values=np.nan,strategy=\"mean\")\n",
    "imp = imp.fit(dataset)\n",
    "dataset = imp.transform(dataset)\n",
    "X = dataset[:, :-1]  # Independent variables\n",
    "y = dataset[:, -1]   # Dependent variable\n"
   ]
  },
  {
   "cell_type": "markdown",
   "metadata": {},
   "source": [
    "# Standardize the data\n"
   ]
  },
  {
   "cell_type": "code",
   "execution_count": 4,
   "metadata": {},
   "outputs": [
    {
     "name": "stdout",
     "output_type": "stream",
     "text": [
      "[[-0.4102682  -1.44995485 -0.98189791 -0.31290039 -0.86466394 -0.08989291\n",
      "  -0.31023339 -0.67427903 -0.52226623 -0.72211034 -0.66840386 -0.49804167\n",
      "  -0.20697177  1.97279725 -0.2723859  -0.35570304 -0.96531823]\n",
      " [-0.4102682   0.28312112  0.58436577 -0.2579016   1.0699369  -0.08989291\n",
      "  -0.31023339 -0.67427903 -0.52226623  0.53156832  0.21935629 -0.64003471\n",
      "   4.82879263  0.96314382  1.21117278 -0.80038928 -0.44297104]\n",
      " [-1.58464621 -1.44995485 -1.44388936 -0.16262102 -0.86466394 -0.08989291\n",
      "  -0.31023339 -0.67427903 -1.38465294 -1.24131059 -0.66840386 -1.27900341\n",
      "  -0.20697177 -0.88471247  1.33067775 -0.18356643  1.09422214]\n",
      " [ 0.76410982  1.3229667  -0.10298736 -0.33535593 -0.86466394 -0.08989291\n",
      "  -0.31023339  2.22918972 -0.52226623 -0.88673481  1.35125048 -0.14305906\n",
      "  -0.20697177  1.17269453 -0.20450142 -1.33114383 -0.93546982]\n",
      " [-0.4102682  -0.06349407 -0.41849371 -0.22895123 -0.86466394 -0.08989291\n",
      "  -0.31023339 -0.67427903  0.34012049 -0.0889393  -0.66840386  0.63790268\n",
      "  -0.20697177 -0.00840949  0.47434335  1.164837   -0.27880478]\n",
      " [ 0.76410982  3.40265786  3.79576973  3.01328313 -0.86466394 -0.08989291\n",
      "  -0.31023339 -0.67427903  2.92728062  2.70967669  2.7272787   1.13487834\n",
      "  -0.20697177 -0.40846085  0.75224543  1.45173135  4.13876008]\n",
      " [-0.4102682   0.28312112 -0.37905542 -0.27251497  1.0699369  -0.08989291\n",
      "  -0.31023339 -0.67427903 -0.52226623 -0.04461733 -0.66840386  0.92188877\n",
      "  -0.20697177 -1.36096409 -1.69725279 -0.85776815  0.37487543]\n",
      " [-0.4102682  -0.75672446 -1.11711492 -0.1726051  -0.86466394 -0.08989291\n",
      "  -0.31023339 -0.67427903 -0.52226623 -0.87407139 -0.66840386 -0.21405558\n",
      "  -0.20697177  2.35379855 -0.99153708 -0.77169985 -0.50266786]\n",
      " [-0.4102682  -1.44995485 -0.30581287 -0.25002489 -0.86466394 -0.08989291\n",
      "  -0.31023339 -0.67427903 -0.52226623 -0.88673481  0.95175841 -0.32055036\n",
      "  -0.20697177  1.36319518 -0.26460747 -0.92949174 -0.30865319]\n",
      " [-0.4102682   0.62973631 -0.18186394 -0.28146264  1.0699369  -0.08989291\n",
      "  -0.31023339 -0.67427903 -0.52226623  0.17699254 -0.66840386  1.20587486\n",
      "  -0.20697177 -0.69421182 -1.2821675   1.26525002  0.60172335]]\n"
     ]
    }
   ],
   "source": [
    "sc = StandardScaler()\n",
    "X = sc.fit_transform(X)\n",
    "# عرض أول 10 صفوف من X بعد التحويل\n",
    "print(X[:10])\n"
   ]
  },
  {
   "cell_type": "markdown",
   "metadata": {},
   "source": [
    "# Split the data into training and testing sets\n"
   ]
  },
  {
   "cell_type": "code",
   "execution_count": 5,
   "metadata": {},
   "outputs": [],
   "source": [
    "X_train, X_test, y_train, y_test = train_test_split(X, y, test_size=0.33, random_state=42)\n"
   ]
  },
  {
   "cell_type": "markdown",
   "metadata": {},
   "source": [
    "# Train the model using SGDRegressor\n"
   ]
  },
  {
   "cell_type": "code",
   "execution_count": 6,
   "metadata": {},
   "outputs": [
    {
     "name": "stdout",
     "output_type": "stream",
     "text": [
      "SGD Regression Training Score: 0.7245045867891025\n",
      "SGD Regression Test Score: 0.7030072995063978\n",
      "SGD Regression Mean Absolute Error: 11.037505953401693\n",
      "SGD Regression Mean Squared Error: 275.19342960722275\n"
     ]
    }
   ],
   "source": [
    "sgd = SGDRegressor(penalty='l2', max_iter=1000, tol=1e-3, loss='squared_error')\n",
    "sgd.fit(X_train, y_train)\n",
    "# Predict y values for the testing set\n",
    "y_pred_sgd = sgd.predict(X_test)\n",
    "\n",
    "# Calculate the training and testing scores\n",
    "print(\"SGD Regression Training Score:\", sgd.score(X_train, y_train))\n",
    "print(\"SGD Regression Test Score:\", sgd.score(X_test, y_test))\n",
    "\n",
    "# Calculate mean absolute error and mean squared error\n",
    "mae_sgd = mean_absolute_error(y_test, y_pred_sgd)\n",
    "mse_sgd = mean_squared_error(y_test, y_pred_sgd)\n",
    "\n",
    "# Print mean absolute error and mean squared error\n",
    "print(\"SGD Regression Mean Absolute Error:\", mae_sgd)\n",
    "print(\"SGD Regression Mean Squared Error:\", mse_sgd)"
   ]
  },
  {
   "cell_type": "markdown",
   "metadata": {},
   "source": [
    "Train the model using Ridge\n"
   ]
  },
  {
   "cell_type": "code",
   "execution_count": 7,
   "metadata": {},
   "outputs": [
    {
     "name": "stdout",
     "output_type": "stream",
     "text": [
      "Ridge Regression Training Score: 0.7259452823786543\n",
      "Ridge Regression Test Score: 0.7126964342112778\n",
      "Ridge Regression Mean Absolute Error: 10.638226303681405\n",
      "Ridge Regression Mean Squared Error: 266.21547760728896\n"
     ]
    }
   ],
   "source": [
    "# Train the model using Ridge\n",
    "ridge = Ridge()\n",
    "ridge.fit(X_train, y_train)\n",
    "\n",
    "# Predict y values for the testing set\n",
    "y_pred_ridge = ridge.predict(X_test)\n",
    "\n",
    "\n",
    "# Calculate the training and testing scores\n",
    "print(\"Ridge Regression Training Score:\", ridge.score(X_train, y_train))\n",
    "print(\"Ridge Regression Test Score:\", ridge.score(X_test, y_test))\n",
    "\n",
    "# Calculate mean absolute error and mean squared error\n",
    "mae_ridge = mean_absolute_error(y_test, y_pred_ridge)\n",
    "mse_ridge = mean_squared_error(y_test, y_pred_ridge)\n",
    "\n",
    "# Print mean absolute error and mean squared error\n",
    "print(\"Ridge Regression Mean Absolute Error:\", mae_ridge)\n",
    "print(\"Ridge Regression Mean Squared Error:\", mse_ridge)"
   ]
  },
  {
   "cell_type": "markdown",
   "metadata": {},
   "source": [
    "Train the model using Lasso\n"
   ]
  },
  {
   "cell_type": "code",
   "execution_count": 9,
   "metadata": {},
   "outputs": [
    {
     "name": "stdout",
     "output_type": "stream",
     "text": [
      "Lasso Regression Training Score: 0.7178039144872173\n",
      "Lasso Regression Test Score: 0.7081961089876502\n",
      "Lasso Regression Mean Absolute Error: 10.376736857777914\n",
      "Lasso Regression Mean Squared Error: 270.3854788584297\n"
     ]
    }
   ],
   "source": [
    "lasso = Lasso()\n",
    "lasso.fit(X_train, y_train)\n",
    "\n",
    "# Predict y values for the testing set\n",
    "y_pred_lasso = lasso.predict(X_test)\n",
    "\n",
    "\n",
    "# Calculate the training and testing scores\n",
    "print(\"Lasso Regression Training Score:\", lasso.score(X_train, y_train))\n",
    "print(\"Lasso Regression Test Score:\", lasso.score(X_test, y_test))\n",
    "\n",
    "# Calculate mean absolute error and mean squared error\n",
    "mae_lasso = mean_absolute_error(y_test, y_pred_lasso)\n",
    "mse_lasso = mean_squared_error(y_test, y_pred_lasso)\n",
    "\n",
    "# Print mean absolute error and mean squared error\n",
    "print(\"Lasso Regression Mean Absolute Error:\", mae_lasso)\n",
    "print(\"Lasso Regression Mean Squared Error:\", mse_lasso)\n"
   ]
  }
 ],
 "metadata": {
  "kernelspec": {
   "display_name": "Python 3",
   "language": "python",
   "name": "python3"
  },
  "language_info": {
   "codemirror_mode": {
    "name": "ipython",
    "version": 3
   },
   "file_extension": ".py",
   "mimetype": "text/x-python",
   "name": "python",
   "nbconvert_exporter": "python",
   "pygments_lexer": "ipython3",
   "version": "3.11.4"
  }
 },
 "nbformat": 4,
 "nbformat_minor": 2
}
